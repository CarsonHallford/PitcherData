{
 "cells": [
  {
   "metadata": {},
   "cell_type": "markdown",
   "source": [
    "# Pitcher Data Demo\n",
    "\n",
    "Inspired by: Thomas Nestico [(@TJStats)](https://x.com/TJStats)\n",
    "\n",
    "The end result of this code will output a specific pitcher's outing from a specific game in Spring Training with specific values attributed to each type of pitch from the pitcher's pitch mix. This notebook will explain each attribute itself and how they are calculated. I wanted to try and replicate the incredible work that people like TJ put out for baseball fans so that I could better understand pitchers and the game we all love.\n",
    "\n",
    "The end result will look as such:\n"
   ],
   "id": "295e97db1d07cfbf"
  },
  {
   "metadata": {},
   "cell_type": "code",
   "source": [
    "import pandas as pd\n",
    "pd.set_option(\"display.max_columns\", None)  # Ensure all columns are displayed\n",
    "\n",
    "df = pd.read_csv(\"pitch_type_counts.csv\")\n",
    "\n",
    "df"
   ],
   "id": "e696dcf518f6f740",
   "outputs": [],
   "execution_count": null
  },
  {
   "metadata": {},
   "cell_type": "markdown",
   "source": [
    "As we can see above, there are a lot of different attributes describing the pitches for Jon Gray.\n",
    "\n",
    "We can see each pitch type that Jon has, as well as how many times he threw each pitch respectively (20 fastballs, 15 sliders, 3 changeups, 2 curveballs).\n",
    "\n",
    "From that information we can calculate the next column, usage rate, by combining each pitch type count to give us a total amount of pitches thrown. With a total amount of pitches thrown, we can divide each pitch type count by the total to give us the usage rate.\n",
    "\n",
    "I will go through this final output column by column and showcase the code used as well as an explanation for the code.\n",
    "\n",
    "## Import Packages"
   ],
   "id": "bdbdaccce41f0eb2"
  },
  {
   "metadata": {},
   "cell_type": "code",
   "source": [
    "# MLB Scraper Pitcher Data\n",
    "import pandas as pd\n",
    "import pybaseball as pyb\n",
    "import numpy as np\n",
    "from api_scraper import MLB_Scrape"
   ],
   "id": "f7cf288d2721f075",
   "outputs": [],
   "execution_count": null
  },
  {
   "metadata": {},
   "cell_type": "markdown",
   "source": "## Display Options to ensure that all of the output is displayed\n",
   "id": "8587d3e38aa94172"
  },
  {
   "metadata": {},
   "cell_type": "code",
   "source": [
    "# Set display options to print all columns without truncation\n",
    "pd.set_option(\"display.max_columns\", None)  # Ensure all columns are displayed\n",
    "pd.set_option(\"display.max_rows\", None)  # Display all rows, be cautious with large DataFrames\n",
    "pd.set_option(\"display.width\", None)  # Remove column width limit"
   ],
   "id": "c2a123fdbbb06240",
   "outputs": [],
   "execution_count": null
  },
  {
   "metadata": {},
   "cell_type": "markdown",
   "source": [
    "## Retrieving game data with MLB Scraper model by Tnestico\n",
    "\n",
    "Specific game IDs can be found in baseball savant URLs\n",
    "\n",
    "For example: `https://baseballsavant.mlb.com/gamefeed?gamePk=778935`\n",
    "\n",
    "The last six digits `778935` at the end of the URL is the gameID for a Rangers/Diamondbacks Spring Training Game\n",
    "\n",
    "We are retrieving this data from `scraper.get_data(game_list_input=[778935])` and assigning the data to the variable `game_data`\n",
    "\n",
    "The following line converts the retrieved game data (stored in `game_data`) into a Polars DataFrame and is then stored in the variable `data_df`\n",
    "\n",
    "The last line converts the Polars DataFrame (`data_df`) to a Pandas DataFrame (`pandas_df`). This is necessary so that we can utilize Pandas' features later on."
   ],
   "id": "f9094e2d216f3b38"
  },
  {
   "metadata": {},
   "cell_type": "code",
   "source": [
    "# Initialize the scraper\n",
    "scraper = MLB_Scrape()\n",
    "\n",
    "# Retrieve game data for the specific game ID\n",
    "game_data = scraper.get_data(game_list_input=[778935])\n",
    "\n",
    "# Convert the game data to a Polars DataFrame\n",
    "data_df = scraper.get_data_df(data_list=game_data)\n",
    "\n",
    "# Convert the Polars DataFrame to a Pandas DataFrame\n",
    "pandas_df = data_df.to_pandas()"
   ],
   "id": "5aaa1eaf4fb015dd",
   "outputs": [],
   "execution_count": null
  },
  {
   "metadata": {},
   "cell_type": "markdown",
   "source": [
    "We can now rename `pandas_df` to `df_pyb` for convenience's sake.\n",
    "\n",
    "We will also print out the first few lines of the dataframe so that we can see all the data we have to work with."
   ],
   "id": "a30b3b84097dee24"
  },
  {
   "metadata": {},
   "cell_type": "code",
   "source": [
    "df_pyb = pandas_df\n",
    "df_pyb.head(5)"
   ],
   "id": "800a210687ec88e3",
   "outputs": [],
   "execution_count": null
  },
  {
   "metadata": {},
   "cell_type": "markdown",
   "source": "If we print out the shape of `df_pyb` we can see how much data there is in this game.",
   "id": "14bc2763042a947e"
  },
  {
   "metadata": {},
   "cell_type": "code",
   "source": "df_pyb.shape",
   "id": "437b9f03283d1dd7",
   "outputs": [],
   "execution_count": null
  },
  {
   "metadata": {},
   "cell_type": "markdown",
   "source": [
    "If each row is thought of as one pitch, then there were 304 pitches thrown.\n",
    "\n",
    "Since we are only looking to gather data for one specific pitcher, we can filter out the dataframe to only return rows (or pitches) where `pitcher_name` is equal to the pitcher's name.\n",
    "\n",
    "For this notebook, we will be looking at the data from Jon Gray. Considering Jon Gray is a starting pitcher, we can assume that he would have one of the higher pitch counts for this game. This will result in a larger sample size for us to make calculations from."
   ],
   "id": "2aa72e6d9e8e3ac6"
  },
  {
   "metadata": {},
   "cell_type": "code",
   "source": [
    "df_pyb = df_pyb[(df_pyb[\"pitcher_name\"] == \"Jon Gray\")]\n",
    "print(df_pyb.shape)\n",
    "df_pyb.head(5)"
   ],
   "id": "b1ab0c88c40f4259",
   "outputs": [],
   "execution_count": null
  },
  {
   "metadata": {},
   "cell_type": "markdown",
   "source": [
    "We can check the shape of the newly filtered DataFrame and can see that there are 40 rows in which `pitcher_name` is equal to Jon Gray.\n",
    "\n",
    "We can also print out the first 5 lines of the DataFrame to see that we still have all the data we had originally, only that it now pertains specifically to Jon Gray.\n",
    "\n",
    "There are a lot of columns that we do not need. If we want to find out Jon's pitch mix and how many times he threw each pitch, we can create a new DataFrame. This new DataFrame will contain the columns that we do want, and not ones that we don't want."
   ],
   "id": "e3bfb092fccf672d"
  },
  {
   "metadata": {},
   "cell_type": "code",
   "source": [
    "pitcher_pyb = df_pyb[\n",
    "    [\n",
    "        \"game_id\",\n",
    "        \"game_date\",\n",
    "        \"pitcher_name\",\n",
    "        \"pitch_description\",\n",
    "    ]\n",
    "]\n",
    "pitcher_pyb.head(5)"
   ],
   "id": "b0a6dfc836ce8d48",
   "outputs": [],
   "execution_count": null
  },
  {
   "metadata": {},
   "cell_type": "markdown",
   "source": [
    "Now we have a DataFrame that is still associated to Jon Gray, but is more concise and returns everything we need to calculate his total pitches thrown and find his usage rate for each pitch type.\n",
    "\n",
    "One way to quickly sum the total pitches thrown is by creating a new column on the DataFrame named `PitchesThrown`."
   ],
   "id": "4e60e2191256d640"
  },
  {
   "metadata": {},
   "cell_type": "code",
   "source": "pitcher_pyb[\"PitchesThrown\"] = 1",
   "id": "72d9e6e2d3c889ab",
   "outputs": [],
   "execution_count": null
  },
  {
   "metadata": {},
   "cell_type": "markdown",
   "source": "Now with the `PitchesThrown` column created, we can create a DataFrame for pitch counts, total pitches, and a usage rate.",
   "id": "90cc4d43818a7f1e"
  },
  {
   "metadata": {},
   "cell_type": "code",
   "source": [
    "pitch_type_counts = pitcher_pyb.groupby(\"pitch_description\", as_index=False)[\"PitchesThrown\"].sum()\n",
    "pitch_type_counts"
   ],
   "id": "e91404641e5e90b5",
   "outputs": [],
   "execution_count": null
  },
  {
   "metadata": {},
   "cell_type": "markdown",
   "source": [
    "We now have the amount of pitches thrown for each pitch type\n",
    "\n",
    "We can sort the data by most pitches thrown for each pitch type"
   ],
   "id": "ac41cdd70848fb20"
  },
  {
   "metadata": {},
   "cell_type": "code",
   "source": [
    "pitch_type_counts = pitch_type_counts.sort_values(by=\"PitchesThrown\", ascending=False)\n",
    "pitch_type_counts"
   ],
   "id": "dfeb2239646f1882",
   "outputs": [],
   "execution_count": null
  },
  {
   "metadata": {},
   "cell_type": "markdown",
   "source": "Now we can calculate the total amout of pitches thrown",
   "id": "1b4c4a20c80fb586"
  },
  {
   "metadata": {},
   "cell_type": "code",
   "source": [
    "total_pitches = pitch_type_counts['PitchesThrown'].sum()\n",
    "total_pitches"
   ],
   "id": "4ac53753afab4ff5",
   "outputs": [],
   "execution_count": null
  },
  {
   "metadata": {},
   "cell_type": "markdown",
   "source": [
    "For the usage rate, we can create column `Usage` and divide `PitchesThrown` by `total_pitches`\n",
    "\n",
    "We will also multiply `Usage` by 100 as well as round the answer to three decimal places"
   ],
   "id": "fc0889cffccfb551"
  },
  {
   "metadata": {},
   "cell_type": "code",
   "source": [
    "pitch_type_counts['Usage %'] = ((pitch_type_counts['PitchesThrown']/total_pitches)*100).round(3)\n",
    "pitch_type_counts"
   ],
   "id": "fc6b12d857d45b5",
   "outputs": [],
   "execution_count": null
  },
  {
   "metadata": {},
   "cell_type": "markdown",
   "source": [
    "The next attribute to calculate is the average velocity for each pitch.\n",
    "\n",
    "The first thing to do is update how we filtered the data originally. We need to add the column `start_speed`."
   ],
   "id": "99fecbfdce057858"
  },
  {
   "metadata": {},
   "cell_type": "code",
   "source": [
    "pitcher_pyb = df_pyb[\n",
    "    [\n",
    "        \"game_id\",\n",
    "        \"game_date\",\n",
    "        \"pitcher_name\",\n",
    "        \"pitch_description\",\n",
    "        \"start_speed\",\n",
    "    ]\n",
    "]"
   ],
   "id": "590e24d0b150fc9b",
   "outputs": [],
   "execution_count": null
  },
  {
   "metadata": {},
   "cell_type": "markdown",
   "source": [
    "Now we can do what we previously did for `pitch_type_counts`.\n",
    "\n",
    "Since `start_speed` is already a column in the raw data, we can simply use `.mean()` to find the average for each `pitch_description`. Additionally, we can round the average velocity to 1 decimal place."
   ],
   "id": "bced7ad969caa4d5"
  },
  {
   "metadata": {},
   "cell_type": "code",
   "source": [
    "pitch_type_velo = pitcher_pyb.groupby(['pitcher_name','pitch_description'],as_index=False)['start_speed'].mean().round(1)\n",
    "pitch_type_velo"
   ],
   "id": "3734993df7ec1f0a",
   "outputs": [],
   "execution_count": null
  },
  {
   "metadata": {},
   "cell_type": "markdown",
   "source": "The next thing we must do is merge our `pitch_type_counts` DataFrame and our `pitch_type_velo` DataFrame so that we can use our velocity we calculated on `pitch_type_counts`.",
   "id": "86f76bd84a73f279"
  },
  {
   "metadata": {},
   "cell_type": "code",
   "source": "pitch_type_counts = (pitch_type_counts.merge(pitch_type_velo, on=\"pitch_description\", how=\"left\"))",
   "id": "15f185c80bf60d21",
   "outputs": [],
   "execution_count": null
  },
  {
   "metadata": {},
   "cell_type": "markdown",
   "source": "Now, when we print `pitch_type_counts` we have `start_speed` as a column for each `pitch_description`.",
   "id": "b9784b772c6330e5"
  },
  {
   "metadata": {},
   "cell_type": "code",
   "source": "pitch_type_counts",
   "id": "243078cca5c14760",
   "outputs": [],
   "execution_count": null
  },
  {
   "metadata": {},
   "cell_type": "markdown",
   "source": [
    "Next, we can calculate the average spin rate for each pitch type following the same pattern as before.\n",
    "\n",
    "First step is to update `pitcher_pyb` and include `spin_rate` from the scraped data."
   ],
   "id": "52a968333ee96622"
  },
  {
   "metadata": {},
   "cell_type": "code",
   "source": [
    "pitcher_pyb = df_pyb[\n",
    "    [\n",
    "        \"game_id\",\n",
    "        \"game_date\",\n",
    "        \"pitcher_name\",\n",
    "        \"pitch_description\",\n",
    "        \"start_speed\",\n",
    "        \"spin_rate\"\n",
    "    ]\n",
    "]"
   ],
   "id": "c7e8953a81397c5f",
   "outputs": [],
   "execution_count": null
  },
  {
   "metadata": {},
   "cell_type": "markdown",
   "source": "After that, it is the same process as before when we calculated average velocity.",
   "id": "f149a249f1309fba"
  },
  {
   "metadata": {},
   "cell_type": "code",
   "source": [
    "pitch_type_spin_rate = (pitcher_pyb.groupby(\"pitch_description\", as_index=False)[\"spin_rate\"].mean()).round(1)\n",
    "pitch_type_spin_rate"
   ],
   "id": "20a627936988f0c5",
   "outputs": [],
   "execution_count": null
  },
  {
   "metadata": {},
   "cell_type": "markdown",
   "source": [
    "Followed by a merging of `pitch_type_spin_rate` and `pitch_type_counts`.\n",
    "\n",
    "We can also quickly re-order the columns in the output"
   ],
   "id": "f9c529a9a3634b36"
  },
  {
   "metadata": {},
   "cell_type": "code",
   "source": [
    "pitch_type_counts = (pitch_type_counts.merge(pitch_type_spin_rate, on=\"pitch_description\", how=\"left\"))\n",
    "\n",
    "pitch_type_counts = pitch_type_counts[\n",
    "    [\n",
    "        \"pitcher_name\",\n",
    "        \"pitch_description\",\n",
    "        \"PitchesThrown\",\n",
    "        \"Usage %\",\n",
    "        \"start_speed\",\n",
    "        \"spin_rate\",\n",
    "    ]\n",
    "]\n",
    "\n",
    "pitch_type_counts"
   ],
   "id": "e49079cc199a715a",
   "outputs": [],
   "execution_count": null
  },
  {
   "metadata": {},
   "cell_type": "markdown",
   "source": [
    "## Induced Vertical Break (iVB)\n",
    "\n",
    "The next value to calcuate is the Induced Vertical Break (iVB) for each pitch type.\n",
    "\n",
    "Per [Fangraphs](https://blogs.fangraphs.com/a-visual-scouting-primer-pitching-part-two/), Induced Vertical Break aims to quantify a pitcher’s ability to fight gravity.\n",
    "\n",
    "iVB does not require a calculation from our end as it is already listed in the raw data as `ivb`. We can simply update the `pitcher_pyb` to include this."
   ],
   "id": "b67ae62003ce672c"
  },
  {
   "metadata": {},
   "cell_type": "code",
   "source": [
    "pitcher_pyb = df_pyb[\n",
    "    [\n",
    "        \"game_id\",\n",
    "        \"game_date\",\n",
    "        \"pitcher_name\",\n",
    "        \"pitch_description\",\n",
    "        \"start_speed\",\n",
    "        \"spin_rate\",\n",
    "        \"ivb\"\n",
    "    ]\n",
    "]\n",
    "\n",
    "pitch_type_ivb = (pitcher_pyb.groupby(\"pitch_description\", as_index=False)[\"ivb\"].mean()).round(1)\n",
    "pitch_type_ivb"
   ],
   "id": "145adc510d98e5b4",
   "outputs": [],
   "execution_count": null
  },
  {
   "metadata": {},
   "cell_type": "markdown",
   "source": [
    "Horizontal break is the amount of lateral (side-to-side) movement a pitch experiences due to spin, measured in inches.\n",
    "\n",
    "We can get the horizontal break the same way as Induced Vertical Break."
   ],
   "id": "ec30e656676dd5a7"
  },
  {
   "metadata": {},
   "cell_type": "code",
   "source": [
    "pitcher_pyb = df_pyb[\n",
    "    [\n",
    "        \"game_id\",\n",
    "        \"game_date\",\n",
    "        \"pitcher_name\",\n",
    "        \"pitch_description\",\n",
    "        \"start_speed\",\n",
    "        \"spin_rate\",\n",
    "        \"ivb\",\n",
    "        \"hb\"\n",
    "    ]\n",
    "]\n",
    "\n",
    "pitch_type_hb = (pitcher_pyb.groupby(\"pitch_description\", as_index=False)[\"hb\"].mean()).round(1)\n",
    "pitch_type_hb"
   ],
   "id": "92861e9748272bd2",
   "outputs": [],
   "execution_count": null
  },
  {
   "metadata": {},
   "cell_type": "markdown",
   "source": "Now, we can merge these two new DataFrames to `pitch_type_counts` and then see how our output is looking.",
   "id": "8537942bd5a2ffb6"
  },
  {
   "metadata": {},
   "cell_type": "code",
   "source": [
    "pitch_type_counts = (pitch_type_counts.merge(pitch_type_ivb, on=\"pitch_description\", how=\"left\"))\n",
    "pitch_type_counts = (pitch_type_counts.merge(pitch_type_hb, on=\"pitch_description\", how=\"left\"))\n",
    "pitch_type_counts"
   ],
   "id": "fcf1c0b0adebdc99",
   "outputs": [],
   "execution_count": null
  },
  {
   "metadata": {},
   "cell_type": "markdown",
   "source": [
    "## vRel and hRel\n",
    "\n",
    "The next piece of information to gather for our pitcher is their `vRel` and `hRel` values.\n",
    "\n",
    "`vRel` is the vertical release position of the ball, measured in feet, from the catcher's perspective\n",
    "\n",
    "Similarly, `hRel` is the horizontal release position of the ball, measured in feet, from the catcher's perspective\n",
    "\n",
    "These values are listed as `z0` and `x0` in the raw data where `z0` is `vRel` and `x0` is `hRel`\n",
    "\n",
    "We can update `pitcher_pyb` to include these values, create a new DataFrame for each value, calculate the mean of each value for each pitch type, check the output and merge the DataFrames to `pitch_type_counts`. Additionally, we can rename `z0` and `x0` to `vRel` and `hRel` respectively."
   ],
   "id": "b599b5657ab4a4a7"
  },
  {
   "metadata": {},
   "cell_type": "code",
   "source": [
    "pitcher_pyb = df_pyb[\n",
    "    [\n",
    "        \"game_id\",\n",
    "        \"game_date\",\n",
    "        \"pitcher_name\",\n",
    "        \"pitch_description\",\n",
    "        \"start_speed\",\n",
    "        \"spin_rate\",\n",
    "        \"ivb\",\n",
    "        \"hb\",\n",
    "        \"z0\",\n",
    "        \"x0\"\n",
    "    ]\n",
    "]"
   ],
   "id": "af396da9543037d4",
   "outputs": [],
   "execution_count": null
  },
  {
   "metadata": {},
   "cell_type": "code",
   "source": [
    "pitch_type_vrel = (pitcher_pyb.groupby(\"pitch_description\", as_index=False)[\"z0\"].mean()).round(1)\n",
    "pitch_type_vrel.rename(columns={\"z0\": \"vRel\"}, inplace=True)\n",
    "pitch_type_vrel"
   ],
   "id": "881a8ec4fdcd9b85",
   "outputs": [],
   "execution_count": null
  },
  {
   "metadata": {},
   "cell_type": "code",
   "source": [
    "pitch_type_hrel = (pitcher_pyb.groupby(\"pitch_description\", as_index=False)[\"x0\"].mean()).round(1)\n",
    "pitch_type_hrel.rename(columns={\"x0\": \"hRel\"}, inplace=True)\n",
    "pitch_type_hrel"
   ],
   "id": "c49d2181ca398094",
   "outputs": [],
   "execution_count": null
  },
  {
   "metadata": {},
   "cell_type": "code",
   "source": [
    "pitch_type_counts = (pitch_type_counts.merge(pitch_type_vrel, on=\"pitch_description\", how=\"left\"))\n",
    "pitch_type_counts = (pitch_type_counts.merge(pitch_type_hrel, on=\"pitch_description\", how=\"left\"))\n",
    "pitch_type_counts"
   ],
   "id": "16f56ca4f3a82f9b",
   "outputs": [],
   "execution_count": null
  },
  {
   "metadata": {},
   "cell_type": "markdown",
   "source": [
    "## Whiffs\n",
    "\n",
    "One thing that is nice to know about a pitcher's performance is how many whiffs they generated.\n",
    "\n",
    "A whiff refers to a swing and miss (when a batter swings at a pitch but fails to make contact.)\n",
    "\n",
    "Pitchers with a lot of whiffs (or a high Whiff%, a metric we will calculate later) tend to be effective strikeout pitchers, as more swings and misses (whiffs) lead to more strikeouts.\n",
    "\n",
    "Fortunately, the raw data has a column called `is_whiff` has the value `True` when a swing and miss occurs, and `NaN` when a whiff did not occur.\n",
    "\n",
    "We can add `is_whiff` to `pitcher_pyb` and create a new DataFrame `whiff_pitches` that returns the rows where a whiff has occured."
   ],
   "id": "135026c6884ad5e2"
  },
  {
   "metadata": {},
   "cell_type": "code",
   "source": [
    "pitcher_pyb = df_pyb[\n",
    "    [\n",
    "        \"game_id\",\n",
    "        \"game_date\",\n",
    "        \"pitcher_name\",\n",
    "        \"pitch_description\",\n",
    "        \"start_speed\",\n",
    "        \"spin_rate\",\n",
    "        \"ivb\",\n",
    "        \"hb\",\n",
    "        \"z0\",\n",
    "        \"x0\",\n",
    "        \"is_whiff\"\n",
    "    ]\n",
    "]\n",
    "\n",
    "whiff_pitches = pitcher_pyb[pitcher_pyb[\"is_whiff\"] == True]\n",
    "whiff_pitches"
   ],
   "id": "dda8ee7793e2acb6",
   "outputs": [],
   "execution_count": null
  },
  {
   "metadata": {},
   "cell_type": "markdown",
   "source": "From here we can then create a `pitch_type_whiff` DataFrame that calculates the total amount of whiffs for each pitch type and merge this DataFrame to `pitch_type_counts`",
   "id": "dc23173524532af3"
  },
  {
   "metadata": {},
   "cell_type": "code",
   "source": [
    "pitch_type_whiff = (\n",
    "    whiff_pitches.groupby(\"pitch_description\").size().reset_index(name=\"Whiffs\")\n",
    ")\n",
    "pitch_type_whiff"
   ],
   "id": "c65c5b285efe3e7b",
   "outputs": [],
   "execution_count": null
  },
  {
   "metadata": {},
   "cell_type": "markdown",
   "source": [
    "We know that Gray threw 4 pitches this day, but only 2 of his 4 pitches generated whiffs. We can assume that the other half of his arsenal did not generate any whiffs for this outing.\n",
    "\n",
    "During the merge to `pitch_type_counts` we can replace `NaN` with 0, and ensure the pitch types that did generate whiffs have the whiffs represented as an integer as a pitcher can only have a whole number of whiffs."
   ],
   "id": "bef5d1106b2353c4"
  },
  {
   "metadata": {},
   "cell_type": "code",
   "source": [
    "pitch_type_counts = (\n",
    "    pitch_type_counts.merge(pitch_type_whiff, on=\"pitch_description\", how=\"left\")\n",
    "    .fillna({\"Whiffs\": 0})\n",
    "    .astype({\"Whiffs\": int})\n",
    ")\n",
    "pitch_type_counts"
   ],
   "id": "dbc24378f542e49",
   "outputs": [],
   "execution_count": null
  },
  {
   "metadata": {},
   "cell_type": "markdown",
   "source": [
    "## Whiff%\n",
    "\n",
    "Knowing the amount of whiffs generated is important, but another metric that is useful is a pitchers Whiff%.\n",
    "\n",
    "Whiff% measures how often a batter swings and misses at a pitch, relative to their total swings. It is a key stat for evaluating a pitcher's ability to generate swings and misses.\n",
    "\n",
    "Since we already know how many whiffs there are for each pitch type, we simply need to calculate the total amount of swings for each pitch type.\n",
    "\n",
    "Once we have the total amount of swings, calculating Whiff% is quite simple.\n",
    "\n",
    "Similar to `is_whiff`, `is_swing` exists within our data and also has `True` or `NaN` to indicate when a batter swung.\n",
    "\n",
    "We can add `is_swing` to `pitcher_pyb` and use the same logic behind calculating `Whiffs` to calculate `Whiff%`."
   ],
   "id": "68d5cf7db05f978f"
  },
  {
   "metadata": {},
   "cell_type": "code",
   "source": [
    "pitcher_pyb = df_pyb[\n",
    "    [\n",
    "        \"game_id\",\n",
    "        \"game_date\",\n",
    "        \"pitcher_name\",\n",
    "        \"pitch_description\",\n",
    "        \"start_speed\",\n",
    "        \"spin_rate\",\n",
    "        \"ivb\",\n",
    "        \"hb\",\n",
    "        \"z0\",\n",
    "        \"x0\",\n",
    "        \"is_whiff\",\n",
    "        \"is_swing\"\n",
    "    ]\n",
    "]"
   ],
   "id": "728c2a4fd0d0588a",
   "outputs": [],
   "execution_count": null
  },
  {
   "metadata": {},
   "cell_type": "markdown",
   "source": "Here we are creating a DataFrame `swings` that will return every row in which `is_swing` is True",
   "id": "fa6e0c4ad5d83782"
  },
  {
   "metadata": {},
   "cell_type": "code",
   "source": "swings = pitcher_pyb[pitcher_pyb[\"is_swing\"] == True]",
   "id": "58e6fcffd590470a",
   "outputs": [],
   "execution_count": null
  },
  {
   "metadata": {},
   "cell_type": "markdown",
   "source": "Now we are grouping each pitch type with the total amount of swings each pitch type generated",
   "id": "685cd187f9fbbb07"
  },
  {
   "metadata": {},
   "cell_type": "code",
   "source": [
    "pitch_type_swing = (\n",
    "    swings.groupby(\"pitch_description\").size().reset_index(name=\"Swings\")\n",
    ")\n",
    "pitch_type_swing"
   ],
   "id": "9cbd7995264b1ac8",
   "outputs": [],
   "execution_count": null
  },
  {
   "metadata": {},
   "cell_type": "markdown",
   "source": "Since there appears to be one pitch type that did not generate >0 swings, we can replace the NaN value it would return with a 0 and ensure that swings are represented as an integer.",
   "id": "5442610a7124158f"
  },
  {
   "metadata": {},
   "cell_type": "code",
   "source": [
    "pitch_type_counts = (\n",
    "    pitch_type_counts.merge(pitch_type_swing, on=\"pitch_description\", how=\"left\")\n",
    "    .fillna({\"Swings\": 0})\n",
    "    .astype({\"Swings\": int})\n",
    ")\n",
    "\n",
    "pitch_type_counts"
   ],
   "id": "d85008d18f79e05c",
   "outputs": [],
   "execution_count": null
  },
  {
   "metadata": {},
   "cell_type": "markdown",
   "source": [
    "Now that we have both `Whiffs` and `Swings`, we can calulate `Whiff%` as the amount of `Whiffs` divided by the amount of `Swings`.\n",
    "\n",
    "If a pitch type did not have any swings, then the result will be `NaN` since it contain division by zero."
   ],
   "id": "cb905b18dd20b0e8"
  },
  {
   "metadata": {},
   "cell_type": "code",
   "source": [
    "pitch_type_counts[\"Whiff%\"] = (\n",
    "    (pitch_type_counts[\"Whiffs\"] / pitch_type_counts[\"Swings\"]) * 100\n",
    ").round(1)\n",
    "\n",
    "pitch_type_counts"
   ],
   "id": "23e22463506762d2",
   "outputs": [],
   "execution_count": null
  },
  {
   "metadata": {},
   "cell_type": "markdown",
   "source": "## Called Strikes",
   "id": "55020a0909956436"
  },
  {
   "metadata": {},
   "cell_type": "code",
   "source": [
    "pitcher_pyb = df_pyb[\n",
    "    [\n",
    "        \"game_id\",\n",
    "        \"game_date\",\n",
    "        \"pitcher_name\",\n",
    "        \"pitch_description\",\n",
    "        \"start_speed\",\n",
    "        \"spin_rate\",\n",
    "        \"ivb\",\n",
    "        \"hb\",\n",
    "        \"z0\",\n",
    "        \"x0\",\n",
    "        \"is_whiff\",\n",
    "        \"is_swing\",\n",
    "        \"play_code\"\n",
    "    ]\n",
    "]"
   ],
   "id": "f72d6cfd32768550",
   "outputs": [],
   "execution_count": null
  },
  {
   "metadata": {},
   "cell_type": "code",
   "source": "strike_pitches = pitcher_pyb[pitcher_pyb[\"play_code\"] == \"C\"]",
   "id": "79ac77974d6dc5a",
   "outputs": [],
   "execution_count": null
  },
  {
   "metadata": {},
   "cell_type": "code",
   "source": [
    "pitch_type_cs = (\n",
    "    strike_pitches.groupby(\"pitch_description\").size().reset_index(name=\"CS\")\n",
    ")\n",
    "pitch_type_cs"
   ],
   "id": "ecfc85456d621a4c",
   "outputs": [],
   "execution_count": null
  },
  {
   "metadata": {},
   "cell_type": "code",
   "source": [
    "pitch_type_counts = (\n",
    "    pitch_type_counts.merge(pitch_type_cs, on=\"pitch_description\", how=\"left\")\n",
    "    .fillna({\"CS\": 0})\n",
    "    .astype({\"CS\": int})\n",
    ")\n",
    "\n",
    "pitch_type_counts"
   ],
   "id": "e6736f868439dfbb",
   "outputs": [],
   "execution_count": null
  },
  {
   "metadata": {},
   "cell_type": "code",
   "source": [
    "pitch_type_counts[\"CS+Whiffs\"] = (pitch_type_counts[\"CS\"] + pitch_type_counts[\"Whiffs\"])\n",
    "pitch_type_counts"
   ],
   "id": "f9f2c1b7db71f5f2",
   "outputs": [],
   "execution_count": null
  },
  {
   "metadata": {},
   "cell_type": "markdown",
   "source": "## CSW%",
   "id": "4f0fe45186e7d235"
  },
  {
   "metadata": {},
   "cell_type": "code",
   "source": [
    "pitch_type_counts[\"CSW%\"] = ((pitch_type_counts[\"CS+Whiffs\"] / pitch_type_counts[\"PitchesThrown\"])*100).round(1)\n",
    "pitch_type_counts"
   ],
   "id": "2891656af9018064",
   "outputs": [],
   "execution_count": null
  },
  {
   "metadata": {},
   "cell_type": "markdown",
   "source": [
    "## Chase%\n",
    "\n",
    "Chase% is the percentage of swings at pitches outside the zone / pitches outside the zone"
   ],
   "id": "9f7ecfbd562fa17e"
  },
  {
   "metadata": {},
   "cell_type": "code",
   "source": [
    "pitcher_pyb = df_pyb[\n",
    "    [\n",
    "        \"game_id\",\n",
    "        \"game_date\",\n",
    "        \"pitcher_name\",\n",
    "        \"pitch_description\",\n",
    "        \"start_speed\",\n",
    "        \"spin_rate\",\n",
    "        \"ivb\",\n",
    "        \"hb\",\n",
    "        \"z0\",\n",
    "        \"x0\",\n",
    "        \"is_whiff\",\n",
    "        \"is_swing\",\n",
    "        \"play_code\",\n",
    "        \"zone\"\n",
    "    ]\n",
    "]"
   ],
   "id": "661b8f032949962",
   "outputs": [],
   "execution_count": null
  },
  {
   "metadata": {},
   "cell_type": "code",
   "source": [
    "pitches_out_of_zone = pitcher_pyb[pitcher_pyb[\"zone\"] > 10]\n",
    "pitches_out_of_zone"
   ],
   "id": "98eed6f6177379b5",
   "outputs": [],
   "execution_count": null
  },
  {
   "metadata": {},
   "cell_type": "code",
   "source": [
    "pitch_type_ball = (\n",
    "    pitches_out_of_zone.groupby(\"pitch_description\").size().reset_index(name=\"Ball\")\n",
    ")\n",
    "pitch_type_ball"
   ],
   "id": "2e18edd022404725",
   "outputs": [],
   "execution_count": null
  },
  {
   "metadata": {},
   "cell_type": "code",
   "source": [
    "pitch_type_counts = (\n",
    "    pitch_type_counts.merge(pitch_type_ball, on=\"pitch_description\", how=\"left\")\n",
    "    .fillna({\"Ball\": 0})\n",
    "    .astype({\"Ball\": int})\n",
    ")\n",
    "pitch_type_counts"
   ],
   "id": "857646b4447b7ffc",
   "outputs": [],
   "execution_count": null
  },
  {
   "metadata": {},
   "cell_type": "code",
   "source": [
    "swings_out_of_zone = pitcher_pyb[(pitcher_pyb[\"is_swing\"] == True) & (pitcher_pyb[\"zone\"] > 10)]\n",
    "swings_out_of_zone"
   ],
   "id": "fac5798823ab2270",
   "outputs": [],
   "execution_count": null
  },
  {
   "metadata": {},
   "cell_type": "code",
   "source": [
    "pitch_type_chase = (\n",
    "    swings_out_of_zone.groupby(\"pitch_description\").size().reset_index(name=\"Chase\")\n",
    ")\n",
    "pitch_type_chase"
   ],
   "id": "cd49304898f2a259",
   "outputs": [],
   "execution_count": null
  },
  {
   "metadata": {},
   "cell_type": "code",
   "source": [
    "pitch_type_counts = (\n",
    "    pitch_type_counts.merge(pitch_type_chase, on=\"pitch_description\", how=\"left\")\n",
    "    .fillna({\"Chase\": 0})\n",
    "    .astype({\"Chase\": int})\n",
    ")\n",
    "pitch_type_counts"
   ],
   "id": "5694610e4daa4308",
   "outputs": [],
   "execution_count": null
  },
  {
   "metadata": {},
   "cell_type": "code",
   "source": [
    "pitch_type_counts[\"Chase%\"] = (pitch_type_counts[\"Chase\"] / pitch_type_counts[\"Ball\"]*100).round(1)\n",
    "pitch_type_counts"
   ],
   "id": "6bbc3f3294c515df",
   "outputs": [],
   "execution_count": null
  },
  {
   "metadata": {},
   "cell_type": "markdown",
   "source": [
    "## Zone%\n",
    "\n",
    "Zone% is the percentage of pitches in the strike zone / total pitches"
   ],
   "id": "3a384d5098fd90c4"
  },
  {
   "metadata": {},
   "cell_type": "code",
   "source": [
    "pitches_in_the_zone = pitcher_pyb[pitcher_pyb[\"zone\"] < 10]\n",
    "pitches_in_the_zone"
   ],
   "id": "98b9e260bf5edcd4",
   "outputs": [],
   "execution_count": null
  },
  {
   "metadata": {},
   "cell_type": "code",
   "source": [
    "pitch_type_strike = (\n",
    "    pitches_in_the_zone.groupby(\"pitch_description\").size().reset_index(name=\"Strike\")\n",
    ")\n",
    "pitch_type_strike"
   ],
   "id": "668486b0b25ca84b",
   "outputs": [],
   "execution_count": null
  },
  {
   "metadata": {},
   "cell_type": "code",
   "source": [
    "pitch_type_counts = (\n",
    "    pitch_type_counts.merge(pitch_type_strike, on=\"pitch_description\", how=\"left\")\n",
    "    .fillna({\"Strike\": 0})\n",
    "    .astype({\"Strike\": int})\n",
    ")\n",
    "pitch_type_counts"
   ],
   "id": "70f62941fd80f342",
   "outputs": [],
   "execution_count": null
  },
  {
   "metadata": {},
   "cell_type": "code",
   "source": [
    "pitch_type_counts[\"Zone%\"] = (pitch_type_counts[\"Strike\"] / pitch_type_counts[\"PitchesThrown\"]*100).round(1)\n",
    "pitch_type_counts"
   ],
   "id": "546827fd2f7a2eb7",
   "outputs": [],
   "execution_count": null
  },
  {
   "metadata": {},
   "cell_type": "markdown",
   "source": "## Vertical Approach Angle (VAA)\n",
   "id": "9371972dd5a6e118"
  },
  {
   "metadata": {
    "ExecuteTime": {
     "end_time": "2025-03-06T00:13:17.723613Z",
     "start_time": "2025-03-06T00:13:17.719886Z"
    }
   },
   "cell_type": "code",
   "source": [
    "pitcher_pyb = df_pyb[\n",
    "    [\n",
    "        \"game_id\",\n",
    "        \"game_date\",\n",
    "        \"pitcher_name\",\n",
    "        \"pitch_description\",\n",
    "        \"start_speed\",\n",
    "        \"spin_rate\",\n",
    "        \"ivb\",\n",
    "        \"hb\",\n",
    "        \"z0\",\n",
    "        \"x0\",\n",
    "        \"is_whiff\",\n",
    "        \"is_swing\",\n",
    "        \"play_code\",\n",
    "        \"zone\",\n",
    "        \"ax\",\n",
    "        \"ay\",\n",
    "        \"az\",\n",
    "        \"vx0\",\n",
    "        \"vy0\",\n",
    "        \"vz0\",\n",
    "    ]\n",
    "]"
   ],
   "id": "9e3cf795816e0b8",
   "outputs": [],
   "execution_count": 1196
  },
  {
   "metadata": {
    "ExecuteTime": {
     "end_time": "2025-03-06T00:13:19.413356Z",
     "start_time": "2025-03-06T00:13:19.411003Z"
    }
   },
   "cell_type": "code",
   "source": [
    "y0 = 50  # Release y-position (feet)\n",
    "yf = 17 / 12  # Home plate y-position (feet)"
   ],
   "id": "627fc389c6135f1e",
   "outputs": [],
   "execution_count": 1197
  },
  {
   "metadata": {
    "ExecuteTime": {
     "end_time": "2025-03-06T00:13:55.787248Z",
     "start_time": "2025-03-06T00:13:55.784113Z"
    }
   },
   "cell_type": "code",
   "source": [
    "pitcher_pyb.loc[:, \"vy_f\"] = -np.sqrt(\n",
    "    pitcher_pyb[\"vy0\"] ** 2 - (2 * pitcher_pyb[\"ay\"] * (y0 - yf))\n",
    ")\n"
   ],
   "id": "431f6224a3e6bdd4",
   "outputs": [],
   "execution_count": 1199
  },
  {
   "metadata": {
    "ExecuteTime": {
     "end_time": "2025-03-06T00:14:17.772981Z",
     "start_time": "2025-03-06T00:14:17.768277Z"
    }
   },
   "cell_type": "code",
   "source": [
    "# Compute time (t)\n",
    "pitcher_pyb.loc[:, \"t\"] = (pitcher_pyb[\"vy_f\"] - pitcher_pyb[\"vy0\"]) / pitcher_pyb[\"ay\"]\n",
    "\n",
    "# Compute final z-velocity (vz_f)\n",
    "pitcher_pyb.loc[:, \"vz_f\"] = pitcher_pyb[\"vz0\"] + (pitcher_pyb[\"az\"] * pitcher_pyb[\"t\"])\n",
    "\n",
    "# Compute final x-velocity (vx_f)\n",
    "pitcher_pyb.loc[:, \"vx_f\"] = pitcher_pyb[\"vx0\"] + (pitcher_pyb[\"ax\"] * pitcher_pyb[\"t\"])"
   ],
   "id": "2404689eb5f31a72",
   "outputs": [],
   "execution_count": 1201
  },
  {
   "metadata": {
    "ExecuteTime": {
     "end_time": "2025-03-06T00:14:31.357658Z",
     "start_time": "2025-03-06T00:14:31.348016Z"
    }
   },
   "cell_type": "code",
   "source": [
    "# Compute VAA\n",
    "pitcher_pyb.loc[:, \"VAA\"] = -np.arctan(pitcher_pyb[\"vz_f\"] / pitcher_pyb[\"vy_f\"]) * (\n",
    "    180 / np.pi\n",
    ")\n",
    "\n",
    "pitcher_pyb.head(5)"
   ],
   "id": "e8bfecc75510ca72",
   "outputs": [
    {
     "data": {
      "text/plain": [
       "   game_id   game_date pitcher_name   pitch_description  start_speed  \\\n",
       "0   778935  2025-03-02     Jon Gray  Four-Seam Fastball         94.1   \n",
       "1   778935  2025-03-02     Jon Gray  Four-Seam Fastball         93.9   \n",
       "2   778935  2025-03-02     Jon Gray            Changeup         87.2   \n",
       "3   778935  2025-03-02     Jon Gray  Four-Seam Fastball         94.4   \n",
       "4   778935  2025-03-02     Jon Gray              Slider         88.1   \n",
       "\n",
       "   spin_rate   ivb    hb        z0        x0 is_whiff is_swing play_code  \\\n",
       "0       1919  15.6   6.5  5.339861 -1.910395     None     None         B   \n",
       "1       1846  14.8   6.0  5.353759 -1.623706     None     True         F   \n",
       "2       1589   8.0  13.2  5.393922 -1.433305     None     None         B   \n",
       "3       1931  14.0   9.7  5.297263 -1.809204     None     None         C   \n",
       "4       2443   0.4  -5.5  5.568195 -1.552380     True     True         S   \n",
       "\n",
       "   zone         ax         ay         az       vx0         vy0       vz0  \\\n",
       "0    11  -7.708112  28.376567 -15.040927  4.094442 -137.064647 -4.440241   \n",
       "1     9  -7.708316  30.294774 -15.543560  6.615272 -136.558642 -6.412778   \n",
       "2    14 -13.549664  26.297841 -23.706664  8.219174 -126.646911 -6.721460   \n",
       "3     4 -11.289134  29.538970 -16.268626  4.872686 -137.420980 -5.538319   \n",
       "4     9   4.219440  26.414158 -31.128767  4.219382 -128.186277 -4.207924   \n",
       "\n",
       "         vy_f         t       vz_f      vx_f       VAA  \n",
       "0 -126.607508  0.368513  -9.983022  1.253902 -4.508453  \n",
       "1 -125.318077  0.371040 -12.180056  3.755181 -5.551320  \n",
       "2 -116.121345  0.400245 -16.209923  2.795995 -7.946833  \n",
       "3 -126.547708  0.368099 -11.526787  0.717165 -5.204510  \n",
       "4 -117.750355  0.395088 -16.506533  5.886433 -7.979863  "
      ],
      "text/html": [
       "<div>\n",
       "<style scoped>\n",
       "    .dataframe tbody tr th:only-of-type {\n",
       "        vertical-align: middle;\n",
       "    }\n",
       "\n",
       "    .dataframe tbody tr th {\n",
       "        vertical-align: top;\n",
       "    }\n",
       "\n",
       "    .dataframe thead th {\n",
       "        text-align: right;\n",
       "    }\n",
       "</style>\n",
       "<table border=\"1\" class=\"dataframe\">\n",
       "  <thead>\n",
       "    <tr style=\"text-align: right;\">\n",
       "      <th></th>\n",
       "      <th>game_id</th>\n",
       "      <th>game_date</th>\n",
       "      <th>pitcher_name</th>\n",
       "      <th>pitch_description</th>\n",
       "      <th>start_speed</th>\n",
       "      <th>spin_rate</th>\n",
       "      <th>ivb</th>\n",
       "      <th>hb</th>\n",
       "      <th>z0</th>\n",
       "      <th>x0</th>\n",
       "      <th>is_whiff</th>\n",
       "      <th>is_swing</th>\n",
       "      <th>play_code</th>\n",
       "      <th>zone</th>\n",
       "      <th>ax</th>\n",
       "      <th>ay</th>\n",
       "      <th>az</th>\n",
       "      <th>vx0</th>\n",
       "      <th>vy0</th>\n",
       "      <th>vz0</th>\n",
       "      <th>vy_f</th>\n",
       "      <th>t</th>\n",
       "      <th>vz_f</th>\n",
       "      <th>vx_f</th>\n",
       "      <th>VAA</th>\n",
       "    </tr>\n",
       "  </thead>\n",
       "  <tbody>\n",
       "    <tr>\n",
       "      <th>0</th>\n",
       "      <td>778935</td>\n",
       "      <td>2025-03-02</td>\n",
       "      <td>Jon Gray</td>\n",
       "      <td>Four-Seam Fastball</td>\n",
       "      <td>94.1</td>\n",
       "      <td>1919</td>\n",
       "      <td>15.6</td>\n",
       "      <td>6.5</td>\n",
       "      <td>5.339861</td>\n",
       "      <td>-1.910395</td>\n",
       "      <td>None</td>\n",
       "      <td>None</td>\n",
       "      <td>B</td>\n",
       "      <td>11</td>\n",
       "      <td>-7.708112</td>\n",
       "      <td>28.376567</td>\n",
       "      <td>-15.040927</td>\n",
       "      <td>4.094442</td>\n",
       "      <td>-137.064647</td>\n",
       "      <td>-4.440241</td>\n",
       "      <td>-126.607508</td>\n",
       "      <td>0.368513</td>\n",
       "      <td>-9.983022</td>\n",
       "      <td>1.253902</td>\n",
       "      <td>-4.508453</td>\n",
       "    </tr>\n",
       "    <tr>\n",
       "      <th>1</th>\n",
       "      <td>778935</td>\n",
       "      <td>2025-03-02</td>\n",
       "      <td>Jon Gray</td>\n",
       "      <td>Four-Seam Fastball</td>\n",
       "      <td>93.9</td>\n",
       "      <td>1846</td>\n",
       "      <td>14.8</td>\n",
       "      <td>6.0</td>\n",
       "      <td>5.353759</td>\n",
       "      <td>-1.623706</td>\n",
       "      <td>None</td>\n",
       "      <td>True</td>\n",
       "      <td>F</td>\n",
       "      <td>9</td>\n",
       "      <td>-7.708316</td>\n",
       "      <td>30.294774</td>\n",
       "      <td>-15.543560</td>\n",
       "      <td>6.615272</td>\n",
       "      <td>-136.558642</td>\n",
       "      <td>-6.412778</td>\n",
       "      <td>-125.318077</td>\n",
       "      <td>0.371040</td>\n",
       "      <td>-12.180056</td>\n",
       "      <td>3.755181</td>\n",
       "      <td>-5.551320</td>\n",
       "    </tr>\n",
       "    <tr>\n",
       "      <th>2</th>\n",
       "      <td>778935</td>\n",
       "      <td>2025-03-02</td>\n",
       "      <td>Jon Gray</td>\n",
       "      <td>Changeup</td>\n",
       "      <td>87.2</td>\n",
       "      <td>1589</td>\n",
       "      <td>8.0</td>\n",
       "      <td>13.2</td>\n",
       "      <td>5.393922</td>\n",
       "      <td>-1.433305</td>\n",
       "      <td>None</td>\n",
       "      <td>None</td>\n",
       "      <td>B</td>\n",
       "      <td>14</td>\n",
       "      <td>-13.549664</td>\n",
       "      <td>26.297841</td>\n",
       "      <td>-23.706664</td>\n",
       "      <td>8.219174</td>\n",
       "      <td>-126.646911</td>\n",
       "      <td>-6.721460</td>\n",
       "      <td>-116.121345</td>\n",
       "      <td>0.400245</td>\n",
       "      <td>-16.209923</td>\n",
       "      <td>2.795995</td>\n",
       "      <td>-7.946833</td>\n",
       "    </tr>\n",
       "    <tr>\n",
       "      <th>3</th>\n",
       "      <td>778935</td>\n",
       "      <td>2025-03-02</td>\n",
       "      <td>Jon Gray</td>\n",
       "      <td>Four-Seam Fastball</td>\n",
       "      <td>94.4</td>\n",
       "      <td>1931</td>\n",
       "      <td>14.0</td>\n",
       "      <td>9.7</td>\n",
       "      <td>5.297263</td>\n",
       "      <td>-1.809204</td>\n",
       "      <td>None</td>\n",
       "      <td>None</td>\n",
       "      <td>C</td>\n",
       "      <td>4</td>\n",
       "      <td>-11.289134</td>\n",
       "      <td>29.538970</td>\n",
       "      <td>-16.268626</td>\n",
       "      <td>4.872686</td>\n",
       "      <td>-137.420980</td>\n",
       "      <td>-5.538319</td>\n",
       "      <td>-126.547708</td>\n",
       "      <td>0.368099</td>\n",
       "      <td>-11.526787</td>\n",
       "      <td>0.717165</td>\n",
       "      <td>-5.204510</td>\n",
       "    </tr>\n",
       "    <tr>\n",
       "      <th>4</th>\n",
       "      <td>778935</td>\n",
       "      <td>2025-03-02</td>\n",
       "      <td>Jon Gray</td>\n",
       "      <td>Slider</td>\n",
       "      <td>88.1</td>\n",
       "      <td>2443</td>\n",
       "      <td>0.4</td>\n",
       "      <td>-5.5</td>\n",
       "      <td>5.568195</td>\n",
       "      <td>-1.552380</td>\n",
       "      <td>True</td>\n",
       "      <td>True</td>\n",
       "      <td>S</td>\n",
       "      <td>9</td>\n",
       "      <td>4.219440</td>\n",
       "      <td>26.414158</td>\n",
       "      <td>-31.128767</td>\n",
       "      <td>4.219382</td>\n",
       "      <td>-128.186277</td>\n",
       "      <td>-4.207924</td>\n",
       "      <td>-117.750355</td>\n",
       "      <td>0.395088</td>\n",
       "      <td>-16.506533</td>\n",
       "      <td>5.886433</td>\n",
       "      <td>-7.979863</td>\n",
       "    </tr>\n",
       "  </tbody>\n",
       "</table>\n",
       "</div>"
      ]
     },
     "execution_count": 1203,
     "metadata": {},
     "output_type": "execute_result"
    }
   ],
   "execution_count": 1203
  },
  {
   "metadata": {
    "ExecuteTime": {
     "end_time": "2025-03-06T00:14:34.045037Z",
     "start_time": "2025-03-06T00:14:34.038500Z"
    }
   },
   "cell_type": "code",
   "source": [
    "vaa_means = (\n",
    "    pitcher_pyb.groupby(\"pitch_description\", as_index=False)[\"VAA\"].mean()\n",
    ").round(1)\n",
    "\n",
    "vaa_means"
   ],
   "id": "cdac3a453a916e6b",
   "outputs": [
    {
     "data": {
      "text/plain": [
       "    pitch_description   VAA\n",
       "0            Changeup  -6.7\n",
       "1           Curveball -10.7\n",
       "2  Four-Seam Fastball  -4.7\n",
       "3              Slider  -7.3"
      ],
      "text/html": [
       "<div>\n",
       "<style scoped>\n",
       "    .dataframe tbody tr th:only-of-type {\n",
       "        vertical-align: middle;\n",
       "    }\n",
       "\n",
       "    .dataframe tbody tr th {\n",
       "        vertical-align: top;\n",
       "    }\n",
       "\n",
       "    .dataframe thead th {\n",
       "        text-align: right;\n",
       "    }\n",
       "</style>\n",
       "<table border=\"1\" class=\"dataframe\">\n",
       "  <thead>\n",
       "    <tr style=\"text-align: right;\">\n",
       "      <th></th>\n",
       "      <th>pitch_description</th>\n",
       "      <th>VAA</th>\n",
       "    </tr>\n",
       "  </thead>\n",
       "  <tbody>\n",
       "    <tr>\n",
       "      <th>0</th>\n",
       "      <td>Changeup</td>\n",
       "      <td>-6.7</td>\n",
       "    </tr>\n",
       "    <tr>\n",
       "      <th>1</th>\n",
       "      <td>Curveball</td>\n",
       "      <td>-10.7</td>\n",
       "    </tr>\n",
       "    <tr>\n",
       "      <th>2</th>\n",
       "      <td>Four-Seam Fastball</td>\n",
       "      <td>-4.7</td>\n",
       "    </tr>\n",
       "    <tr>\n",
       "      <th>3</th>\n",
       "      <td>Slider</td>\n",
       "      <td>-7.3</td>\n",
       "    </tr>\n",
       "  </tbody>\n",
       "</table>\n",
       "</div>"
      ]
     },
     "execution_count": 1204,
     "metadata": {},
     "output_type": "execute_result"
    }
   ],
   "execution_count": 1204
  },
  {
   "metadata": {
    "ExecuteTime": {
     "end_time": "2025-03-06T00:14:35.852554Z",
     "start_time": "2025-03-06T00:14:35.841497Z"
    }
   },
   "cell_type": "code",
   "source": [
    "pitch_type_counts = (\n",
    "    pitch_type_counts.merge(vaa_means, on=\"pitch_description\", how=\"left\")\n",
    ")\n",
    "pitch_type_counts"
   ],
   "id": "4be81e22e951c9e2",
   "outputs": [
    {
     "data": {
      "text/plain": [
       "  pitcher_name   pitch_description  PitchesThrown  Usage %  start_speed  \\\n",
       "0     Jon Gray  Four-Seam Fastball             20     50.0         94.4   \n",
       "1     Jon Gray              Slider             15     37.5         86.7   \n",
       "2     Jon Gray            Changeup              3      7.5         87.3   \n",
       "3     Jon Gray           Curveball              2      5.0         77.3   \n",
       "\n",
       "   spin_rate   ivb    hb  vRel  hRel  Whiffs  Swings  Whiff%  CS  CS+Whiffs  \\\n",
       "0     1938.4  15.1   8.5   5.4  -1.6       0      11     0.0   4          4   \n",
       "1     2473.7   1.9  -3.4   5.6  -1.6       3       9    33.3   3          6   \n",
       "2     1502.7   8.1  14.2   5.5  -1.5       1       2    50.0   0          1   \n",
       "3     2622.5  -8.3 -10.6   5.6  -1.5       0       0     NaN   0          0   \n",
       "\n",
       "   CSW%  Ball  Chase  Chase%  Strike  Zone%  VAA_x  VAA_y  \n",
       "0  20.0     8      3    37.5      12   60.0   -4.7   -4.7  \n",
       "1  40.0     5      2    40.0      10   66.7   -7.3   -7.3  \n",
       "2  33.3     1      0     0.0       2   66.7   -6.7   -6.7  \n",
       "3   0.0     2      0     0.0       0    0.0  -10.7  -10.7  "
      ],
      "text/html": [
       "<div>\n",
       "<style scoped>\n",
       "    .dataframe tbody tr th:only-of-type {\n",
       "        vertical-align: middle;\n",
       "    }\n",
       "\n",
       "    .dataframe tbody tr th {\n",
       "        vertical-align: top;\n",
       "    }\n",
       "\n",
       "    .dataframe thead th {\n",
       "        text-align: right;\n",
       "    }\n",
       "</style>\n",
       "<table border=\"1\" class=\"dataframe\">\n",
       "  <thead>\n",
       "    <tr style=\"text-align: right;\">\n",
       "      <th></th>\n",
       "      <th>pitcher_name</th>\n",
       "      <th>pitch_description</th>\n",
       "      <th>PitchesThrown</th>\n",
       "      <th>Usage %</th>\n",
       "      <th>start_speed</th>\n",
       "      <th>spin_rate</th>\n",
       "      <th>ivb</th>\n",
       "      <th>hb</th>\n",
       "      <th>vRel</th>\n",
       "      <th>hRel</th>\n",
       "      <th>Whiffs</th>\n",
       "      <th>Swings</th>\n",
       "      <th>Whiff%</th>\n",
       "      <th>CS</th>\n",
       "      <th>CS+Whiffs</th>\n",
       "      <th>CSW%</th>\n",
       "      <th>Ball</th>\n",
       "      <th>Chase</th>\n",
       "      <th>Chase%</th>\n",
       "      <th>Strike</th>\n",
       "      <th>Zone%</th>\n",
       "      <th>VAA_x</th>\n",
       "      <th>VAA_y</th>\n",
       "    </tr>\n",
       "  </thead>\n",
       "  <tbody>\n",
       "    <tr>\n",
       "      <th>0</th>\n",
       "      <td>Jon Gray</td>\n",
       "      <td>Four-Seam Fastball</td>\n",
       "      <td>20</td>\n",
       "      <td>50.0</td>\n",
       "      <td>94.4</td>\n",
       "      <td>1938.4</td>\n",
       "      <td>15.1</td>\n",
       "      <td>8.5</td>\n",
       "      <td>5.4</td>\n",
       "      <td>-1.6</td>\n",
       "      <td>0</td>\n",
       "      <td>11</td>\n",
       "      <td>0.0</td>\n",
       "      <td>4</td>\n",
       "      <td>4</td>\n",
       "      <td>20.0</td>\n",
       "      <td>8</td>\n",
       "      <td>3</td>\n",
       "      <td>37.5</td>\n",
       "      <td>12</td>\n",
       "      <td>60.0</td>\n",
       "      <td>-4.7</td>\n",
       "      <td>-4.7</td>\n",
       "    </tr>\n",
       "    <tr>\n",
       "      <th>1</th>\n",
       "      <td>Jon Gray</td>\n",
       "      <td>Slider</td>\n",
       "      <td>15</td>\n",
       "      <td>37.5</td>\n",
       "      <td>86.7</td>\n",
       "      <td>2473.7</td>\n",
       "      <td>1.9</td>\n",
       "      <td>-3.4</td>\n",
       "      <td>5.6</td>\n",
       "      <td>-1.6</td>\n",
       "      <td>3</td>\n",
       "      <td>9</td>\n",
       "      <td>33.3</td>\n",
       "      <td>3</td>\n",
       "      <td>6</td>\n",
       "      <td>40.0</td>\n",
       "      <td>5</td>\n",
       "      <td>2</td>\n",
       "      <td>40.0</td>\n",
       "      <td>10</td>\n",
       "      <td>66.7</td>\n",
       "      <td>-7.3</td>\n",
       "      <td>-7.3</td>\n",
       "    </tr>\n",
       "    <tr>\n",
       "      <th>2</th>\n",
       "      <td>Jon Gray</td>\n",
       "      <td>Changeup</td>\n",
       "      <td>3</td>\n",
       "      <td>7.5</td>\n",
       "      <td>87.3</td>\n",
       "      <td>1502.7</td>\n",
       "      <td>8.1</td>\n",
       "      <td>14.2</td>\n",
       "      <td>5.5</td>\n",
       "      <td>-1.5</td>\n",
       "      <td>1</td>\n",
       "      <td>2</td>\n",
       "      <td>50.0</td>\n",
       "      <td>0</td>\n",
       "      <td>1</td>\n",
       "      <td>33.3</td>\n",
       "      <td>1</td>\n",
       "      <td>0</td>\n",
       "      <td>0.0</td>\n",
       "      <td>2</td>\n",
       "      <td>66.7</td>\n",
       "      <td>-6.7</td>\n",
       "      <td>-6.7</td>\n",
       "    </tr>\n",
       "    <tr>\n",
       "      <th>3</th>\n",
       "      <td>Jon Gray</td>\n",
       "      <td>Curveball</td>\n",
       "      <td>2</td>\n",
       "      <td>5.0</td>\n",
       "      <td>77.3</td>\n",
       "      <td>2622.5</td>\n",
       "      <td>-8.3</td>\n",
       "      <td>-10.6</td>\n",
       "      <td>5.6</td>\n",
       "      <td>-1.5</td>\n",
       "      <td>0</td>\n",
       "      <td>0</td>\n",
       "      <td>NaN</td>\n",
       "      <td>0</td>\n",
       "      <td>0</td>\n",
       "      <td>0.0</td>\n",
       "      <td>2</td>\n",
       "      <td>0</td>\n",
       "      <td>0.0</td>\n",
       "      <td>0</td>\n",
       "      <td>0.0</td>\n",
       "      <td>-10.7</td>\n",
       "      <td>-10.7</td>\n",
       "    </tr>\n",
       "  </tbody>\n",
       "</table>\n",
       "</div>"
      ]
     },
     "execution_count": 1205,
     "metadata": {},
     "output_type": "execute_result"
    }
   ],
   "execution_count": 1205
  },
  {
   "metadata": {},
   "cell_type": "code",
   "source": [
    "'''pitcher_pyb = pitcher_pyb.sort_values(by=[\"pitch_description\"])\n",
    "is_ball = [11, 12, 13, 14]\n",
    "strike = [1, 2, 3, 4, 5, 6, 7, 8, 9]\n",
    "pitcher_pyb[\"InZone\"] = np.where(pitcher_pyb[\"zone\"].isin(strike), 1, 0)\n",
    "pitcher_pyb[\"OutZone\"] = np.where(pitcher_pyb[\"zone\"].isin(is_ball), 1, 0)\n",
    "pitcher_pyb'''\n",
    "\n",
    "'''pitcher_pyb[\"vy_f\"] = -np.sqrt(\n",
    "    pitcher_pyb[\"vy0\"] ** 2 - (2 * pitcher_pyb[\"ay\"] * (y0 - yf))\n",
    ")\n",
    "\n",
    "# Compute time (t)\n",
    "pitcher_pyb[\"t\"] = (pitcher_pyb[\"vy_f\"] - pitcher_pyb[\"vy0\"]) / pitcher_pyb[\"ay\"]\n",
    "\n",
    "# Compute final z-velocity (vz_f)\n",
    "pitcher_pyb[\"vz_f\"] = pitcher_pyb[\"vz0\"] + (pitcher_pyb[\"az\"] * pitcher_pyb[\"t\"])\n",
    "\n",
    "# Compute final x-velocity (vx_f)\n",
    "pitcher_pyb[\"vx_f\"] = pitcher_pyb[\"vx0\"] + (pitcher_pyb[\"ax\"] * pitcher_pyb[\"t\"])\n",
    "\n",
    "# Compute VAA\n",
    "pitcher_pyb[\"VAA\"] = -np.arctan(pitcher_pyb[\"vz_f\"] / pitcher_pyb[\"vy_f\"]) * (\n",
    "    180 / np.pi\n",
    ")\n",
    "\n",
    "# Compute Horizontal Approach Angle (HAA)\n",
    "pitcher_pyb[\"HAA\"] = -np.arctan(pitcher_pyb[\"vx_f\"] / pitcher_pyb[\"vy_f\"]) * (\n",
    "    180 / np.pi\n",
    ")\n",
    "\n",
    "# Get average vRel per pitch type\n",
    "pitch_type_vrel = (\n",
    "    df_pyb.groupby(\"pitch_description\", as_index=False)[\"z0\"].mean()\n",
    ").round(1)\n",
    "pitch_type_vrel.rename(columns={\"z0\": \"vRel\"}, inplace=True)\n",
    "\n",
    "# Get average hRel per pitch type\n",
    "pitch_type_hrel = (\n",
    "    df_pyb.groupby(\"pitch_description\", as_index=False)[\"x0\"].mean()\n",
    ").round(1)\n",
    "pitch_type_hrel.rename(columns={\"x0\": \"hRel\"}, inplace=True)\n",
    "pitcher_hand_unique = df_pyb[[\"pitch_description\", \"pitcher_hand\"]].drop_duplicates(\n",
    "    subset=[\"pitch_description\"]\n",
    ")\n",
    "pitch_type_hrel = pitch_type_hrel.merge(\n",
    "    pitcher_hand_unique, on=\"pitch_description\", how=\"left\"\n",
    ")\n",
    "pitch_type_hrel[\"hRel\"] = np.where(\n",
    "    pitch_type_hrel[\"pitcher_hand\"] == \"L\",\n",
    "    -pitch_type_hrel[\"hRel\"],\n",
    "    pitch_type_hrel[\"hRel\"],\n",
    ")\n",
    "\n",
    "whiff_pitches = pitcher_pyb[pitcher_pyb[\"is_whiff\"] == True]\n",
    "pitch_type_whiff = (\n",
    "    whiff_pitches.groupby(\"pitch_description\").size().reset_index(name=\"whiff_count\")\n",
    ")\n",
    "pitch_type_whiff.rename(columns={\"whiff_count\": \"Whiffs\"}, inplace=True)\n",
    "pitch_type_whiff[\"Whiffs\"] = pitch_type_whiff[\"Whiffs\"].astype(int)\n",
    "\n",
    "strike_pitches = pitcher_pyb[pitcher_pyb[\"play_code\"] == \"C\"]\n",
    "pitch_type_cs = (\n",
    "    strike_pitches.groupby(\"pitch_description\").size().reset_index(name=\"CS\")\n",
    ")\n",
    "\n",
    "pitches_in_zone = pitcher_pyb.groupby(\"pitch_description\")[\"InZone\"].sum().reset_index()\n",
    "pitches_in_zone.rename(columns={\"InZone\": \"Pitches_In_Zone\"}, inplace=True)\n",
    "\n",
    "pitches_out_of_zone = (\n",
    "    pitcher_pyb.groupby(\"pitch_description\")[\"OutZone\"].sum().reset_index()\n",
    ")\n",
    "pitches_out_of_zone.rename(columns={\"OutZone\": \"Pitches_Out_Of_Zone\"}, inplace=True)\n",
    "# print(pitches_out_of_zone)\n",
    "\n",
    "\n",
    "swings_out_of_zone = pitcher_pyb[\n",
    "    pitcher_pyb[\"zone\"].isin([11, 12, 13, 14]) & pitcher_pyb[\"is_swing\"] == True\n",
    "]\n",
    "swings_out_of_zone = (\n",
    "    swings_out_of_zone.groupby(\"pitch_description\")[\"is_swing\"]\n",
    "    .sum()\n",
    "    .astype(int)  # Convert to integer\n",
    "    .reset_index()\n",
    ")\n",
    "# print(swings_out_of_zone)\n",
    "\n",
    "\n",
    "pitch_type_spin = (\n",
    "    pitcher_pyb.groupby(\"pitch_description\", as_index=False)[\"spin_rate\"].mean()\n",
    ").round(1)\n",
    "pitch_type_spin.rename(columns={\"spin_rate\": \"Spin Rate\"}, inplace=True)\n",
    "\n",
    "pitch_type_swing = (\n",
    "    pitcher_pyb.groupby(\"pitch_description\")[\"is_swing\"].sum().astype(int).reset_index()\n",
    ")\n",
    "pitch_type_swing.rename(columns={\"is_swing\": \"Swings\"}, inplace=True)\n",
    "\n",
    "\n",
    "pitch_type_ivb = (\n",
    "    pitcher_pyb.groupby(\"pitch_description\", as_index=False)[\"ivb\"].mean()\n",
    ").round(1)\n",
    "pitch_type_ivb.rename(columns={\"ivb\": \"iVB\"}, inplace=True)\n",
    "\n",
    "pitch_type_hb = (\n",
    "    pitcher_pyb.groupby(\"pitch_description\", as_index=False)[\"hb\"].mean()\n",
    ").round(1)\n",
    "pitch_type_hb.rename(columns={\"hb\": \"HB\"}, inplace=True)\n",
    "\n",
    "pitch_avg_velo = (\n",
    "    pitcher_pyb.groupby(\"pitch_description\", as_index=False)[\"start_speed\"].mean()\n",
    ").round(1)\n",
    "pitch_avg_velo.rename(columns={\"start_speed\": \"Avg Velo\"}, inplace=True)\n",
    "\n",
    "pitch_avg_exten = (\n",
    "    pitcher_pyb.groupby(\"pitch_description\", as_index=False)[\"extension\"].mean()\n",
    ").round(1)\n",
    "pitch_avg_exten.rename(columns={\"extension\": \"Extension\"}, inplace=True)\n",
    "\n",
    "# Compute the mean VAA for each pitch type\n",
    "vaa_means = (\n",
    "    pitcher_pyb.groupby(\"pitch_description\", as_index=False)[\"VAA\"].mean()\n",
    ").round(1)\n",
    "\n",
    "# Compute the mean HAA for each pitch type\n",
    "haa_means = (\n",
    "    pitcher_pyb.groupby(\"pitch_description\", as_index=False)[\"HAA\"].mean()\n",
    ").round(1)\n",
    "\n",
    "# Compute the highest exit velocity for each pitch type\n",
    "df_hits = pitcher_pyb.dropna(subset=[\"launch_speed\"])\n",
    "# Group by pitch type and find the index of the max exit velocity, handling NaN values\n",
    "idx = df_hits.groupby(\"pitch_description\")[\"launch_speed\"].idxmax().dropna()\n",
    "# Retrieve the rows with max exit velocity\n",
    "max_exit_velo = df_hits.loc[\n",
    "    idx, [\"pitch_description\", \"batter_name\", \"launch_speed\"]\n",
    "].copy()\n",
    "max_exit_velo.rename(columns={\"launch_speed\": \"Max Exit Velo\"}, inplace=True)\n",
    "\n",
    "pitch_type_counts = pitcher_pyb.groupby(\n",
    "    [\"pitcher_name\", \"pitch_description\"], as_index=False\n",
    ")[\"PitchesThrown\"].sum()'''"
   ],
   "id": "be42f944204d848",
   "outputs": [],
   "execution_count": null
  },
  {
   "metadata": {},
   "cell_type": "code",
   "source": "",
   "id": "6ce65739380f6ffd",
   "outputs": [],
   "execution_count": null
  },
  {
   "metadata": {},
   "cell_type": "code",
   "source": "'''pitch_type_counts'''",
   "id": "650fcd2d7137af24",
   "outputs": [],
   "execution_count": null
  },
  {
   "metadata": {},
   "cell_type": "code",
   "source": [
    "'''pitch_type_counts[\"Total Pitches\"] = pitch_type_counts[\"PitchesThrown\"].sum()\n",
    "pitch_type_counts'''"
   ],
   "id": "ff99b4733a7ad410",
   "outputs": [],
   "execution_count": null
  },
  {
   "metadata": {},
   "cell_type": "code",
   "source": [
    "'''pitch_type_counts[\"Usage\"] = (\n",
    "    (pitch_type_counts[\"PitchesThrown\"] / pitch_type_counts[\"Total Pitches\"]) * 100\n",
    ").round(2)\n",
    "\n",
    "pitch_type_counts = (\n",
    "    pitch_type_counts.merge(pitch_type_spin, on=\"pitch_description\", how=\"left\")\n",
    "    .merge(pitch_avg_velo, on=\"pitch_description\", how=\"left\")\n",
    "    .merge(pitch_type_ivb, on=\"pitch_description\", how=\"left\")\n",
    "    .merge(pitch_type_hb, on=\"pitch_description\", how=\"left\")\n",
    "    .merge(pitch_type_whiff, on=\"pitch_description\", how=\"left\")\n",
    "    .merge(pitch_type_cs, on=\"pitch_description\", how=\"left\")\n",
    "    .merge(pitches_in_zone, on=\"pitch_description\", how=\"left\")\n",
    "    .merge(pitches_out_of_zone, on=\"pitch_description\", how=\"left\")\n",
    "    .merge(swings_out_of_zone, on=\"pitch_description\", how=\"left\")\n",
    "    .merge(pitch_type_swing, on=\"pitch_description\", how=\"left\")\n",
    "    .merge(pitch_type_vrel, on=\"pitch_description\", how=\"left\")\n",
    "    .merge(pitch_type_hrel, on=\"pitch_description\", how=\"left\")\n",
    "    .merge(vaa_means, on=\"pitch_description\", how=\"left\")\n",
    "    .merge(haa_means, on=\"pitch_description\", how=\"left\")\n",
    "    .merge(pitch_avg_exten, on=\"pitch_description\", how=\"left\")\n",
    "    .merge(max_exit_velo, on=\"pitch_description\", how=\"left\")\n",
    ")\n",
    "\n",
    "pitch_type_counts = pitch_type_counts.sort_values(by=\"PitchesThrown\", ascending=False)\n",
    "\n",
    "pitch_type_counts[\"Whiffs\"] = pitch_type_counts[\"Whiffs\"].fillna(0).astype(int)\n",
    "pitch_type_counts[\"CS\"] = pitch_type_counts[\"CS\"].fillna(0).astype(int)\n",
    "pitch_type_counts[\"CS+Whiffs\"] = pitch_type_counts[\"CS\"] + pitch_type_counts[\"Whiffs\"]\n",
    "pitch_type_counts[\"Zone%\"] = (\n",
    "    (pitch_type_counts[\"Pitches_In_Zone\"] / pitch_type_counts[\"PitchesThrown\"]) * 100\n",
    ").round(1)\n",
    "pitch_type_counts[\"is_swing\"] = pitch_type_counts[\"is_swing\"].fillna(0).astype(int)\n",
    "pitch_type_counts[\"Chase%\"] = (\n",
    "    (pitch_type_counts[\"is_swing\"] / pitch_type_counts[\"Pitches_Out_Of_Zone\"]) * 100\n",
    ").round(1)\n",
    "pitch_type_counts[\"Whiff%\"] = (\n",
    "    (pitch_type_counts[\"Whiffs\"] / pitch_type_counts[\"Swings\"]) * 100\n",
    ").round(1)\n",
    "\n",
    "\n",
    "pitch_type_counts = pitch_type_counts[\n",
    "    [\n",
    "        \"pitcher_name\",\n",
    "        \"pitch_description\",\n",
    "        \"PitchesThrown\",\n",
    "        \"Usage\",\n",
    "        \"Spin Rate\",\n",
    "        \"Avg Velo\",\n",
    "        \"iVB\",\n",
    "        \"HB\",\n",
    "        \"Whiffs\",\n",
    "        \"CS\",\n",
    "        \"CS+Whiffs\",\n",
    "        \"Zone%\",\n",
    "        \"Chase%\",\n",
    "        \"Whiff%\",\n",
    "        \"vRel\",\n",
    "        \"hRel\",\n",
    "        \"VAA\",\n",
    "        \"HAA\",\n",
    "        \"Extension\",\n",
    "        \"game_date\",\n",
    "    ]\n",
    "]\n",
    "\n",
    "\n",
    "pitch_type_counts.rename(\n",
    "    columns={\n",
    "        \"game_date\": \"Date\",\n",
    "        \"PitchesThrown\": \"Count\",\n",
    "        \"pitch_description\": \"Pitch Type\",\n",
    "        \"batter_name\": \"Batter\",\n",
    "        \"pitcher_name\": \"Pitcher\",\n",
    "    },\n",
    "    inplace=True,\n",
    ")\n",
    "\n",
    "\n",
    "print(pitch_type_counts)\n",
    "'''"
   ],
   "id": "15412ec3e18f4dd6",
   "outputs": [],
   "execution_count": null
  },
  {
   "metadata": {},
   "cell_type": "code",
   "source": "",
   "id": "7ec17da7682f21e9",
   "outputs": [],
   "execution_count": null
  },
  {
   "metadata": {},
   "cell_type": "code",
   "source": "",
   "id": "186ba08b861d7ae3",
   "outputs": [],
   "execution_count": null
  },
  {
   "metadata": {},
   "cell_type": "code",
   "source": "",
   "id": "fe2bb1ff3ca30612",
   "outputs": [],
   "execution_count": null
  }
 ],
 "metadata": {
  "kernelspec": {
   "display_name": "Python 3",
   "language": "python",
   "name": "python3"
  },
  "language_info": {
   "codemirror_mode": {
    "name": "ipython",
    "version": 2
   },
   "file_extension": ".py",
   "mimetype": "text/x-python",
   "name": "python",
   "nbconvert_exporter": "python",
   "pygments_lexer": "ipython2",
   "version": "2.7.6"
  }
 },
 "nbformat": 4,
 "nbformat_minor": 5
}
